{
 "cells": [
  {
   "cell_type": "markdown",
   "metadata": {
    "colab_type": "text",
    "id": "0xmiisvl9ebc"
   },
   "source": []
  },
  {
   "cell_type": "markdown",
   "metadata": {
    "colab_type": "text",
    "collapsed": true,
    "id": "7otDk26K9ebe"
   },
   "source": [
    "# Image Classification\n",
    "In this project, you'll classify images from the [CIFAR-10 dataset](https://www.cs.toronto.edu/~kriz/cifar.html).  The dataset consists of airplanes, dogs, cats, and other objects. You'll preprocess the images, then train a convolutional neural network on all the samples. The images need to be normalized and the labels need to be one-hot encoded.  You'll get to apply what you learned and build a convolutional, max pooling, dropout, and fully connected layers.  At the end, you'll get to see your neural network's predictions on the sample images.\n",
    "## Get the Data\n",
    "Run the following cell to download the [CIFAR-10 dataset for python](https://www.cs.toronto.edu/~kriz/cifar-10-python.tar.gz)."
   ]
  },
  {
   "cell_type": "code",
   "execution_count": 7,
   "metadata": {
    "colab": {
     "base_uri": "https://localhost:8080/",
     "height": 51
    },
    "colab_type": "code",
    "id": "w7dVn7fy9ebe",
    "outputId": "434738a8-f738-44ff-c540-d785eb4d9278"
   },
   "outputs": [
    {
     "name": "stderr",
     "output_type": "stream",
     "text": [
      "CIFAR-10 Dataset: 171MB [00:54, 3.10MB/s]                           \n"
     ]
    },
    {
     "name": "stdout",
     "output_type": "stream",
     "text": [
      "All files found!\n"
     ]
    }
   ],
   "source": [
    "\"\"\"\n",
    "DON'T MODIFY ANYTHING IN THIS CELL THAT IS BELOW THIS LINE\n",
    "\"\"\"\n",
    "from urllib.request import urlretrieve\n",
    "from os.path import isfile, isdir\n",
    "from tqdm import tqdm\n",
    "import problem_unittests as tests\n",
    "import tarfile\n",
    "\n",
    "cifar10_dataset_folder_path = 'cifar-10-batches-py'\n",
    "\n",
    "class DLProgress(tqdm):\n",
    "    last_block = 0\n",
    "\n",
    "    def hook(self, block_num=1, block_size=1, total_size=None):\n",
    "        self.total = total_size\n",
    "        self.update((block_num - self.last_block) * block_size)\n",
    "        self.last_block = block_num\n",
    "\n",
    "if not isfile('cifar-10-python.tar.gz'):\n",
    "    with DLProgress(unit='B', unit_scale=True, miniters=1, desc='CIFAR-10 Dataset') as pbar:\n",
    "        urlretrieve(\n",
    "            'https://www.cs.toronto.edu/~kriz/cifar-10-python.tar.gz',\n",
    "            'cifar-10-python.tar.gz',\n",
    "            pbar.hook)\n",
    "\n",
    "if not isdir(cifar10_dataset_folder_path):\n",
    "    with tarfile.open('cifar-10-python.tar.gz') as tar:\n",
    "        tar.extractall()\n",
    "        tar.close()\n",
    "\n",
    "\n",
    "tests.test_folder_path(cifar10_dataset_folder_path)"
   ]
  },
  {
   "cell_type": "code",
   "execution_count": 6,
   "metadata": {
    "colab": {
     "base_uri": "https://localhost:8080/",
     "height": 69,
     "resources": {
      "http://localhost:8080/nbextensions/google.colab/files.js": {
       "data": "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",
       "headers": [
        [
         "content-type",
         "application/javascript"
        ]
       ],
       "ok": true,
       "status": 200,
       "status_text": ""
      }
     }
    },
    "colab_type": "code",
    "id": "TzwmE28E958a",
    "outputId": "c50f34de-ce12-43e9-f819-d4b08a9c8677"
   },
   "outputs": [
    {
     "data": {
      "text/html": [
       "\n",
       "     <input type=\"file\" id=\"files-391c579c-3bd1-4bde-a5e5-d66af2ed6cd7\" name=\"files[]\" multiple disabled />\n",
       "     <output id=\"result-391c579c-3bd1-4bde-a5e5-d66af2ed6cd7\">\n",
       "      Upload widget is only available when the cell has been executed in the\n",
       "      current browser session. Please rerun this cell to enable.\n",
       "      </output>\n",
       "      <script src=\"/nbextensions/google.colab/files.js\"></script> "
      ],
      "text/plain": [
       "<IPython.core.display.HTML object>"
      ]
     },
     "metadata": {
      "tags": []
     },
     "output_type": "display_data"
    },
    {
     "name": "stdout",
     "output_type": "stream",
     "text": [
      "Saving problem_unittests.py to problem_unittests.py\n"
     ]
    }
   ],
   "source": [
    "from google.colab import files\n",
    "\n",
    "uploaded = files.upload()"
   ]
  },
  {
   "cell_type": "markdown",
   "metadata": {
    "colab_type": "text",
    "id": "uJPjDbn99ebl"
   },
   "source": [
    "## Explore the Data\n",
    "The dataset is broken into batches to prevent your machine from running out of memory.  The CIFAR-10 dataset consists of 5 batches, named `data_batch_1`, `data_batch_2`, etc.. Each batch contains the labels and images that are one of the following:\n",
    "* airplane\n",
    "* automobile\n",
    "* bird\n",
    "* cat\n",
    "* deer\n",
    "* dog\n",
    "* frog\n",
    "* horse\n",
    "* ship\n",
    "* truck\n",
    "\n",
    "Understanding a dataset is part of making predictions on the data.  Play around with the code cell below by changing the `batch_id` and `sample_id`. The `batch_id` is the id for a batch (1-5). The `sample_id` is the id for a image and label pair in the batch.\n",
    "\n",
    "Ask yourself \"What are all possible labels?\", \"What is the range of values for the image data?\", \"Are the labels in order or random?\".  Answers to questions like these will help you preprocess the data and end up with better predictions."
   ]
  },
  {
   "cell_type": "code",
   "execution_count": 9,
   "metadata": {
    "colab": {
     "base_uri": "https://localhost:8080/",
     "height": 69,
     "resources": {
      "http://localhost:8080/nbextensions/google.colab/files.js": {
       "data": "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",
       "headers": [
        [
         "content-type",
         "application/javascript"
        ]
       ],
       "ok": true,
       "status": 200,
       "status_text": ""
      }
     }
    },
    "colab_type": "code",
    "id": "PnCCI6Di_XIl",
    "outputId": "f56b7130-d3cb-42e8-d1aa-ce253302fb0d"
   },
   "outputs": [
    {
     "data": {
      "text/html": [
       "\n",
       "     <input type=\"file\" id=\"files-31516c73-0d45-4f82-8497-8baa26148773\" name=\"files[]\" multiple disabled />\n",
       "     <output id=\"result-31516c73-0d45-4f82-8497-8baa26148773\">\n",
       "      Upload widget is only available when the cell has been executed in the\n",
       "      current browser session. Please rerun this cell to enable.\n",
       "      </output>\n",
       "      <script src=\"/nbextensions/google.colab/files.js\"></script> "
      ],
      "text/plain": [
       "<IPython.core.display.HTML object>"
      ]
     },
     "metadata": {
      "tags": []
     },
     "output_type": "display_data"
    },
    {
     "name": "stdout",
     "output_type": "stream",
     "text": [
      "Saving helper.py to helper (1).py\n"
     ]
    }
   ],
   "source": [
    "from google.colab import files\n",
    "\n",
    "uploaded = files.upload()\n"
   ]
  },
  {
   "cell_type": "code",
   "execution_count": 10,
   "metadata": {
    "colab": {
     "base_uri": "https://localhost:8080/",
     "height": 435
    },
    "colab_type": "code",
    "id": "34o0w8Z49ebl",
    "outputId": "80dddefd-d894-4018-dc2e-53eafc3a6565"
   },
   "outputs": [
    {
     "name": "stdout",
     "output_type": "stream",
     "text": [
      "\n",
      "Stats of batch 1:\n",
      "Samples: 10000\n",
      "Label Counts: {0: 1005, 1: 974, 2: 1032, 3: 1016, 4: 999, 5: 937, 6: 1030, 7: 1001, 8: 1025, 9: 981}\n",
      "First 20 Labels: [6, 9, 9, 4, 1, 1, 2, 7, 8, 3, 4, 7, 7, 2, 9, 9, 9, 3, 2, 6]\n",
      "\n",
      "Example of Image 5:\n",
      "Image - Min Value: 0 Max Value: 252\n",
      "Image - Shape: (32, 32, 3)\n",
      "Label - Label Id: 1 Name: automobile\n"
     ]
    },
    {
     "data": {
      "image/png": "[encoded data removed]",
      "text/plain": [
       "<matplotlib.figure.Figure at 0x7f1284bf79b0>"
      ]
     },
     "metadata": {
      "image/png": {
       "height": 248,
       "width": 249
      },
      "tags": []
     },
     "output_type": "display_data"
    }
   ],
   "source": [
    "%matplotlib inline\n",
    "%config InlineBackend.figure_format = 'retina'\n",
    "\n",
    "import helper\n",
    "import numpy as np\n",
    "\n",
    "# Explore the dataset\n",
    "batch_id = 1\n",
    "sample_id = 5\n",
    "helper.display_stats(cifar10_dataset_folder_path, batch_id, sample_id)"
   ]
  },
  {
   "cell_type": "markdown",
   "metadata": {
    "colab_type": "text",
    "id": "ou48hMRi9ebo"
   },
   "source": [
    "## Implement Preprocess Functions\n",
    "### Normalize\n",
    "In the cell below, implement the `normalize` function to take in image data, `x`, and return it as a normalized Numpy array. The values should be in the range of 0 to 1, inclusive.  The return object should be the same shape as `x`."
   ]
  },
  {
   "cell_type": "code",
   "execution_count": 11,
   "metadata": {
    "colab": {
     "base_uri": "https://localhost:8080/",
     "height": 34
    },
    "colab_type": "code",
    "id": "mC0A0IEH9ebq",
    "outputId": "43941563-ecf6-418c-8bac-428e836369b2"
   },
   "outputs": [
    {
     "name": "stdout",
     "output_type": "stream",
     "text": [
      "Tests Passed\n"
     ]
    }
   ],
   "source": [
    "def normalize(x):\n",
    "    \"\"\"\n",
    "    Normalize a list of sample image data in the range of 0 to 1\n",
    "    : x: List of image data.  The image shape is (32, 32, 3)\n",
    "    : return: Numpy array of normalize data\n",
    "    \"\"\"\n",
    "    # TODO: Implement Function\n",
    "    return (x - np.min(x)) / (np.max(x) - np.min(x))\n",
    "\n",
    "\n",
    "\"\"\"\n",
    "DON'T MODIFY ANYTHING IN THIS CELL THAT IS BELOW THIS LINE\n",
    "\"\"\"\n",
    "tests.test_normalize(normalize)"
   ]
  },
  {
   "cell_type": "markdown",
   "metadata": {
    "colab_type": "text",
    "id": "HvWj_-TQ9ebt"
   },
   "source": [
    "### One-hot encode\n",
    "Just like the previous code cell, you'll be implementing a function for preprocessing.  This time, you'll implement the `one_hot_encode` function. The input, `x`, are a list of labels.  Implement the function to return the list of labels as One-Hot encoded Numpy array.  The possible values for labels are 0 to 9. The one-hot encoding function should return the same encoding for each value between each call to `one_hot_encode`.  Make sure to save the map of encodings outside the function.\n",
    "\n",
    "Hint: Don't reinvent the wheel."
   ]
  },
  {
   "cell_type": "code",
   "execution_count": 12,
   "metadata": {
    "colab": {
     "base_uri": "https://localhost:8080/",
     "height": 34
    },
    "colab_type": "code",
    "id": "drW6_dw59ebt",
    "outputId": "45d8911b-9e73-4c7b-80e2-71426c37e74e"
   },
   "outputs": [
    {
     "name": "stdout",
     "output_type": "stream",
     "text": [
      "Tests Passed\n"
     ]
    }
   ],
   "source": [
    "def one_hot_encode(x):\n",
    "    \"\"\"\n",
    "    One hot encode a list of sample labels. Return a one-hot encoded vector for each label.\n",
    "    : x: List of sample Labels\n",
    "    : return: Numpy array of one-hot encoded labels\n",
    "    \"\"\"\n",
    "    # FROM https://discussions.udacity.com/t/one-hot-encoding-help/224505/11?u=ryan.collins\n",
    "    max_vals = 10\n",
    "    return np.eye(max_vals)[x]\n",
    "\n",
    "\n",
    "\"\"\"\n",
    "DON'T MODIFY ANYTHING IN THIS CELL THAT IS BELOW THIS LINE\n",
    "\"\"\"\n",
    "tests.test_one_hot_encode(one_hot_encode)"
   ]
  },
  {
   "cell_type": "markdown",
   "metadata": {
    "colab_type": "text",
    "id": "TtWhkO3t9ebw"
   },
   "source": [
    "### Randomize Data\n",
    "As you saw from exploring the data above, the order of the samples are randomized.  It doesn't hurt to randomize it again, but you don't need to for this dataset."
   ]
  },
  {
   "cell_type": "markdown",
   "metadata": {
    "colab_type": "text",
    "id": "mR4dzezR9ebx"
   },
   "source": [
    "## Preprocess all the data and save it\n",
    "Running the code cell below will preprocess all the CIFAR-10 data and save it to file. The code below also uses 10% of the training data for validation."
   ]
  },
  {
   "cell_type": "code",
   "execution_count": 0,
   "metadata": {
    "colab": {},
    "colab_type": "code",
    "id": "zJH23qFO9eby"
   },
   "outputs": [],
   "source": [
    "\"\"\"\n",
    "DON'T MODIFY ANYTHING IN THIS CELL\n",
    "\"\"\"\n",
    "# Preprocess Training, Validation, and Testing Data\n",
    "helper.preprocess_and_save_data(cifar10_dataset_folder_path, normalize, one_hot_encode)"
   ]
  },
  {
   "cell_type": "markdown",
   "metadata": {
    "colab_type": "text",
    "id": "QcG0CzVP9eb0"
   },
   "source": [
    "# Check Point\n",
    "This is your first checkpoint.  If you ever decide to come back to this notebook or have to restart the notebook, you can start from here.  The preprocessed data has been saved to disk."
   ]
  },
  {
   "cell_type": "code",
   "execution_count": 0,
   "metadata": {
    "colab": {},
    "colab_type": "code",
    "id": "bi3ToOkb9eb0"
   },
   "outputs": [],
   "source": [
    "\"\"\"\n",
    "DON'T MODIFY ANYTHING IN THIS CELL\n",
    "\"\"\"\n",
    "import pickle\n",
    "import problem_unittests as tests\n",
    "import helper\n",
    "\n",
    "# Load the Preprocessed Validation data\n",
    "valid_features, valid_labels = pickle.load(open('preprocess_validation.p', mode='rb'))"
   ]
  },
  {
   "cell_type": "markdown",
   "metadata": {
    "colab_type": "text",
    "id": "NuTAPMZo9eb3"
   },
   "source": [
    "## Build the network\n",
    "For the neural network, you'll build each layer into a function.  Most of the code you've seen has been outside of functions. To test your code more thoroughly, we require that you put each layer in a function.  This allows us to give you better feedback and test for simple mistakes using our unittests before you submit your project.\n",
    "\n",
    "If you're finding it hard to dedicate enough time for this course a week, we've provided a small shortcut to this part of the project. In the next couple of problems, you'll have the option to use [TensorFlow Layers](https://www.tensorflow.org/api_docs/python/tf/layers) or [TensorFlow Layers (contrib)](https://www.tensorflow.org/api_guides/python/contrib.layers) to build each layer, except \"Convolutional & Max Pooling\" layer.  TF Layers is similar to Keras's and TFLearn's abstraction to layers, so it's easy to pickup.\n",
    "\n",
    "If you would like to get the most of this course, try to solve all the problems without TF Layers.  Let's begin!\n",
    "### Input\n",
    "The neural network needs to read the image data, one-hot encoded labels, and dropout keep probability. Implement the following functions\n",
    "* Implement `neural_net_image_input`\n",
    " * Return a [TF Placeholder](https://www.tensorflow.org/api_docs/python/tf/placeholder)\n",
    " * Set the shape using `image_shape` with batch size set to `None`.\n",
    " * Name the TensorFlow placeholder \"x\" using the TensorFlow `name` parameter in the [TF Placeholder](https://www.tensorflow.org/api_docs/python/tf/placeholder).\n",
    "* Implement `neural_net_label_input`\n",
    " * Return a [TF Placeholder](https://www.tensorflow.org/api_docs/python/tf/placeholder)\n",
    " * Set the shape using `n_classes` with batch size set to `None`.\n",
    " * Name the TensorFlow placeholder \"y\" using the TensorFlow `name` parameter in the [TF Placeholder](https://www.tensorflow.org/api_docs/python/tf/placeholder).\n",
    "* Implement `neural_net_keep_prob_input`\n",
    " * Return a [TF Placeholder](https://www.tensorflow.org/api_docs/python/tf/placeholder) for dropout keep probability.\n",
    " * Name the TensorFlow placeholder \"keep_prob\" using the TensorFlow `name` parameter in the [TF Placeholder](https://www.tensorflow.org/api_docs/python/tf/placeholder).\n",
    "\n",
    "These names will be used at the end of the project to load your saved model.\n",
    "\n",
    "Note: `None` for shapes in TensorFlow allow for a dynamic size."
   ]
  },
  {
   "cell_type": "code",
   "execution_count": 15,
   "metadata": {
    "colab": {
     "base_uri": "https://localhost:8080/",
     "height": 68
    },
    "colab_type": "code",
    "id": "jSuVGlK89eb3",
    "outputId": "962cf79a-eb26-4015-ba8e-5299e8e2f224"
   },
   "outputs": [
    {
     "name": "stdout",
     "output_type": "stream",
     "text": [
      "Image Input Tests Passed.\n",
      "Label Input Tests Passed.\n",
      "Keep Prob Tests Passed.\n"
     ]
    }
   ],
   "source": [
    "import tensorflow as tf\n",
    "\n",
    "def neural_net_image_input(image_shape):\n",
    "    \"\"\"\n",
    "    Return a Tensor for a bach of image input\n",
    "    : image_shape: Shape of the images\n",
    "    : return: Tensor for image input.\n",
    "    \"\"\"\n",
    "    # TODO: Implement Function\n",
    "    return tf.placeholder(tf.float32, (None, *image_shape), name=\"x\")\n",
    "\n",
    "\n",
    "def neural_net_label_input(n_classes):\n",
    "    \"\"\"\n",
    "    Return a Tensor for a batch of label input\n",
    "    : n_classes: Number of classes\n",
    "    : return: Tensor for label input.\n",
    "    \"\"\"\n",
    "    # TODO: Implement Function\n",
    "    return tf.placeholder(tf.float32, (None, n_classes), name=\"y\")\n",
    "\n",
    "\n",
    "def neural_net_keep_prob_input():\n",
    "    \"\"\"\n",
    "    Return a Tensor for keep probability\n",
    "    : return: Tensor for keep probability.\n",
    "    \"\"\"\n",
    "    # TODO: Implement Function\n",
    "    return tf.placeholder(tf.float32, name=\"keep_prob\")\n",
    "\n",
    "\n",
    "\"\"\"\n",
    "DON'T MODIFY ANYTHING IN THIS CELL THAT IS BELOW THIS LINE\n",
    "\"\"\"\n",
    "tf.reset_default_graph()\n",
    "tests.test_nn_image_inputs(neural_net_image_input)\n",
    "tests.test_nn_label_inputs(neural_net_label_input)\n",
    "tests.test_nn_keep_prob_inputs(neural_net_keep_prob_input)"
   ]
  },
  {
   "cell_type": "markdown",
   "metadata": {
    "colab_type": "text",
    "id": "pwiTgwFb9eb7"
   },
   "source": [
    "### Convolution and Max Pooling Layer\n",
    "Convolution layers have a lot of success with images. For this code cell, you should implement the function `conv2d_maxpool` to apply convolution then max pooling:\n",
    "* Create the weight and bias using `conv_ksize`, `conv_num_outputs` and the shape of `x_tensor`.\n",
    "* Apply a convolution to `x_tensor` using weight and `conv_strides`.\n",
    " * We recommend you use same padding, but you're welcome to use any padding.\n",
    "* Add bias\n",
    "* Add a nonlinear activation to the convolution.\n",
    "* Apply Max Pooling using `pool_ksize` and `pool_strides`.\n",
    " * We recommend you use same padding, but you're welcome to use any padding.\n",
    "\n",
    "Note: You **can't** use [TensorFlow Layers](https://www.tensorflow.org/api_docs/python/tf/layers) or [TensorFlow Layers (contrib)](https://www.tensorflow.org/api_guides/python/contrib.layers) for this layer.  You're free to use any TensorFlow package for all the other layers."
   ]
  },
  {
   "cell_type": "code",
   "execution_count": 16,
   "metadata": {
    "colab": {
     "base_uri": "https://localhost:8080/",
     "height": 34
    },
    "colab_type": "code",
    "id": "wjcQF9Ud9eb7",
    "outputId": "128e9ebc-633f-455a-fb95-a14973a25eea",
    "scrolled": true
   },
   "outputs": [
    {
     "name": "stdout",
     "output_type": "stream",
     "text": [
      "Tests Passed\n"
     ]
    }
   ],
   "source": [
    "def conv2d_maxpool(x_tensor, conv_num_outputs, conv_ksize, conv_strides, pool_ksize, pool_strides):\n",
    "    \"\"\"\n",
    "    Apply convolution then max pooling to x_tensor\n",
    "    :param x_tensor: TensorFlow Tensor\n",
    "    :param conv_num_outputs: Number of outputs for the convolutional layer\n",
    "    :param conv_strides: Stride 2-D Tuple for convolution\n",
    "    :param pool_ksize: kernal size 2-D Tuple for pool\n",
    "    :param pool_strides: Stride 2-D Tuple for pool\n",
    "    : return: A tensor that represents convolution and max pooling of x_tensor\n",
    "    \"\"\"\n",
    "    # TODO: Implement Function\n",
    "    input_shape = int(x_tensor.shape[3])\n",
    "    output_shape = conv_num_outputs\n",
    "    weight_shape = [*conv_ksize, input_shape, output_shape]\n",
    "    w = tf.Variable(tf.random_normal(weight_shape, stddev=0.1))\n",
    "    b = tf.Variable(tf.zeros(output_shape))\n",
    "    \n",
    "    # Initialize the 2d conv layer\n",
    "    conv_net = tf.nn.conv2d(x_tensor, w, [1, *conv_strides, 1], padding=\"SAME\")\n",
    "    \n",
    "    # Add the bias\n",
    "    conv_net = tf.nn.bias_add(conv_net, b)\n",
    "    \n",
    "    # Add nonlinear activiation with relu\n",
    "    conv_net = tf.nn.relu(conv_net)\n",
    "    \n",
    "    # Max pooling\n",
    "    mp_strides = [1, *pool_strides, 1]\n",
    "    mp_ksize = [1, *conv_ksize, 1]\n",
    "    conv_net = tf.nn.max_pool(conv_net, mp_ksize, mp_strides, padding=\"SAME\")\n",
    "    \n",
    "    return conv_net\n",
    "\n",
    "\"\"\"\n",
    "DON'T MODIFY ANYTHING IN THIS CELL THAT IS BELOW THIS LINE\n",
    "\"\"\"\n",
    "tests.test_con_pool(conv2d_maxpool)"
   ]
  },
  {
   "cell_type": "markdown",
   "metadata": {
    "colab_type": "text",
    "id": "SjMyAeOA9eb9"
   },
   "source": [
    "### Flatten Layer\n",
    "Implement the `flatten` function to change the dimension of `x_tensor` from a 4-D tensor to a 2-D tensor.  The output should be the shape (*Batch Size*, *Flattened Image Size*). You can use [TensorFlow Layers](https://www.tensorflow.org/api_docs/python/tf/layers) or [TensorFlow Layers (contrib)](https://www.tensorflow.org/api_guides/python/contrib.layers) for this layer."
   ]
  },
  {
   "cell_type": "code",
   "execution_count": 17,
   "metadata": {
    "colab": {
     "base_uri": "https://localhost:8080/",
     "height": 34
    },
    "colab_type": "code",
    "id": "ODAYz8xD9eb-",
    "outputId": "4d597f29-e56f-4263-c180-760c11ab7c94"
   },
   "outputs": [
    {
     "name": "stdout",
     "output_type": "stream",
     "text": [
      "Tests Passed\n"
     ]
    }
   ],
   "source": [
    "def flatten(x_tensor):\n",
    "    \"\"\"\n",
    "    Flatten x_tensor to (Batch Size, Flattened Image Size)\n",
    "    : x_tensor: A tensor of size (Batch Size, ...), where ... are the image dimensions.\n",
    "    : return: A tensor of size (Batch Size, Flattened Image Size).\n",
    "    \"\"\"\n",
    "    # TODO: Implement Function\n",
    "    return tf.contrib.layers.flatten(x_tensor)\n",
    "\n",
    "\n",
    "\"\"\"\n",
    "DON'T MODIFY ANYTHING IN THIS CELL THAT IS BELOW THIS LINE\n",
    "\"\"\"\n",
    "tests.test_flatten(flatten)"
   ]
  },
  {
   "cell_type": "markdown",
   "metadata": {
    "colab_type": "text",
    "id": "MGplxLxY9ecB"
   },
   "source": [
    "### Fully-Connected Layer\n",
    "Implement the `fully_conn` function to apply a fully connected layer to `x_tensor` with the shape (*Batch Size*, *num_outputs*). You can use [TensorFlow Layers](https://www.tensorflow.org/api_docs/python/tf/layers) or [TensorFlow Layers (contrib)](https://www.tensorflow.org/api_guides/python/contrib.layers) for this layer."
   ]
  },
  {
   "cell_type": "code",
   "execution_count": 0,
   "metadata": {
    "colab": {},
    "colab_type": "code",
    "id": "452SWfE29ecC"
   },
   "outputs": [],
   "source": [
    "def get_w_b(x_tensor, num_outputs):\n",
    "    \"\"\"\n",
    "    Since both the input / output layer require weight / biases,\n",
    "    this will return a tuple containing them, a lot more dry this way!\n",
    "    : x_tensor: A 2-D tensor where the first dimension is batch size.\n",
    "    : num_outputs: The number of output that the new tensor should be.\n",
    "    : return: A tuple with the weight / biases\n",
    "    \"\"\"\n",
    "    weight_shape = (int(x_tensor.shape[1]), num_outputs)\n",
    "    w = tf.Variable(tf.random_normal(weight_shape, stddev=0.1))\n",
    "    b = tf.Variable(tf.zeros(num_outputs))\n",
    "    return (w, b)"
   ]
  },
  {
   "cell_type": "code",
   "execution_count": 19,
   "metadata": {
    "colab": {
     "base_uri": "https://localhost:8080/",
     "height": 34
    },
    "colab_type": "code",
    "id": "-IbMgj9L9ecE",
    "outputId": "df3ddbda-1545-48a9-f140-347722ee3ed9"
   },
   "outputs": [
    {
     "name": "stdout",
     "output_type": "stream",
     "text": [
      "Tests Passed\n"
     ]
    }
   ],
   "source": [
    "def fully_conn(x_tensor, num_outputs):\n",
    "    \"\"\"\n",
    "    Apply a fully connected layer to x_tensor using weight and bias\n",
    "    : x_tensor: A 2-D tensor where the first dimension is batch size.\n",
    "    : num_outputs: The number of output that the new tensor should be.\n",
    "    : return: A 2-D tensor where the second dimension is num_outputs.\n",
    "    \"\"\"\n",
    "    # TODO: Implement Function\n",
    "    #Create the weights / bias variables\n",
    "    (w, b) = get_w_b(x_tensor, num_outputs)\n",
    "    \n",
    "    # Hook up and return the layer\n",
    "    # Matrix multiply the input tensor with the weights and add the bias\n",
    "    layer = tf.add(tf.matmul(x_tensor, w), b)\n",
    "    \n",
    "    # Hookup relu hidden layer\n",
    "    layer = tf.nn.relu(layer)\n",
    "    return layer\n",
    "\n",
    "\n",
    "\"\"\"\n",
    "DON'T MODIFY ANYTHING IN THIS CELL THAT IS BELOW THIS LINE\n",
    "\"\"\"\n",
    "tests.test_fully_conn(fully_conn)"
   ]
  },
  {
   "cell_type": "markdown",
   "metadata": {
    "colab_type": "text",
    "id": "zq0F7gMb9ecH"
   },
   "source": [
    "### Output Layer\n",
    "Implement the `output` function to apply a fully connected layer to `x_tensor` with the shape (*Batch Size*, *num_outputs*). You can use [TensorFlow Layers](https://www.tensorflow.org/api_docs/python/tf/layers) or [TensorFlow Layers (contrib)](https://www.tensorflow.org/api_guides/python/contrib.layers) for this layer.\n",
    "\n",
    "Note: Activation, softmax, or cross entropy shouldn't be applied to this."
   ]
  },
  {
   "cell_type": "code",
   "execution_count": 20,
   "metadata": {
    "colab": {
     "base_uri": "https://localhost:8080/",
     "height": 34
    },
    "colab_type": "code",
    "id": "hPMSW1X49ecJ",
    "outputId": "7670f574-164c-4dc6-af34-b1d0ba69da53"
   },
   "outputs": [
    {
     "name": "stdout",
     "output_type": "stream",
     "text": [
      "Tests Passed\n"
     ]
    }
   ],
   "source": [
    "def output(x_tensor, num_outputs):\n",
    "    \"\"\"\n",
    "    Apply a output layer to x_tensor using weight and bias\n",
    "    : x_tensor: A 2-D tensor where the first dimension is batch size.\n",
    "    : num_outputs: The number of output that the new tensor should be.\n",
    "    : return: A 2-D tensor where the second dimension is num_outputs.\n",
    "    \"\"\"\n",
    "    # TODO: Implement Function\n",
    "    (w, b) = get_w_b(x_tensor, num_outputs)\n",
    "    layer = tf.add(tf.matmul(x_tensor, w), b)\n",
    "    return layer\n",
    "\n",
    "\n",
    "\"\"\"\n",
    "DON'T MODIFY ANYTHING IN THIS CELL THAT IS BELOW THIS LINE\n",
    "\"\"\"\n",
    "tests.test_output(output)"
   ]
  },
  {
   "cell_type": "markdown",
   "metadata": {
    "colab_type": "text",
    "id": "23qT7R-49ecM"
   },
   "source": [
    "### Create Convolutional Model\n",
    "Implement the function `conv_net` to create a convolutional neural network model. The function takes in a batch of images, `x`, and outputs logits.  Use the layers you created above to create this model:\n",
    "\n",
    "* Apply 1, 2, or 3 Convolution and Max Pool layers\n",
    "* Apply a Flatten Layer\n",
    "* Apply 1, 2, or 3 Fully Connected Layers\n",
    "* Apply an Output Layer\n",
    "* Return the output\n",
    "* Apply [TensorFlow's Dropout](https://www.tensorflow.org/api_docs/python/tf/nn/dropout) to one or more layers in the model using `keep_prob`. "
   ]
  },
  {
   "cell_type": "code",
   "execution_count": 21,
   "metadata": {
    "colab": {
     "base_uri": "https://localhost:8080/",
     "height": 190
    },
    "colab_type": "code",
    "id": "vT442ZRI9ecO",
    "outputId": "b29b7035-d312-4829-f47d-65015ecbf28b"
   },
   "outputs": [
    {
     "name": "stdout",
     "output_type": "stream",
     "text": [
      "WARNING:tensorflow:From <ipython-input-21-e503eeebe35a>:104: softmax_cross_entropy_with_logits (from tensorflow.python.ops.nn_ops) is deprecated and will be removed in a future version.\n",
      "Instructions for updating:\n",
      "\n",
      "Future major versions of TensorFlow will allow gradients to flow\n",
      "into the labels input on backprop by default.\n",
      "\n",
      "See `tf.nn.softmax_cross_entropy_with_logits_v2`.\n",
      "\n",
      "Neural Network Built!\n"
     ]
    }
   ],
   "source": [
    "def conv_net(x, keep_prob):\n",
    "    \"\"\"\n",
    "    Create a convolutional neural network model\n",
    "    : x: Placeholder tensor that holds image data.\n",
    "    : keep_prob: Placeholder tensor that hold dropout keep probability.\n",
    "    : return: Tensor that represents logits\n",
    "    \"\"\"\n",
    "    # Hyper parameters\n",
    "    conv_num_outputs_layer_1 = 64\n",
    "    conv_ksize_layer_1 = (3, 3)\n",
    "    conv_strides_layer_1 = (1, 1)\n",
    "    pool_ksize_layer_1 = (2, 2)\n",
    "    pool_strides_layer_1 = (2, 2)\n",
    "    \n",
    "    conv_num_outputs_layer_2 = 64\n",
    "    conv_ksize_layer_2 = (3, 3)\n",
    "    conv_strides_layer_2 = (2, 2)\n",
    "    pool_ksize_layer_2 = (2, 2)\n",
    "    pool_strides_layer_2 = (2, 2)\n",
    "    \n",
    "    conv_num_outputs_layer_3 = 64\n",
    "    conv_ksize_layer_3 = (3, 3)\n",
    "    conv_strides_layer_3 = (1, 1)\n",
    "    pool_ksize_layer_3 = (2, 2)\n",
    "    pool_strides_layer_3 = (2, 2)\n",
    "    \n",
    "    fc_layer_1_num_outputs = 512\n",
    "    fc_layer_2_num_outputs = 256\n",
    "    output_num_outputs = 10 # ten classes\n",
    "    \n",
    "    # TODO: Apply 1, 2, or 3 Convolution and Max Pool layers\n",
    "    #    Play around with different number of outputs, kernel size and stride\n",
    "    # Function Definition from Above:\n",
    "    #    conv2d_maxpool(x_tensor, conv_num_outputs, conv_ksize, conv_strides, pool_ksize, pool_strides)\n",
    "    conv_layer_1 = conv2d_maxpool(x,\n",
    "                           conv_num_outputs_layer_1,\n",
    "                           conv_ksize_layer_1,\n",
    "                           conv_strides_layer_1,\n",
    "                           pool_ksize_layer_1,\n",
    "                           pool_strides_layer_1)\n",
    "    conv_layer_2 = conv2d_maxpool(conv_layer_1,\n",
    "                           conv_num_outputs_layer_2,\n",
    "                           conv_ksize_layer_2,\n",
    "                           conv_strides_layer_2,\n",
    "                           pool_ksize_layer_2,\n",
    "                           pool_strides_layer_2)\n",
    "    conv_layer_3 = conv2d_maxpool(conv_layer_2,\n",
    "                           conv_num_outputs_layer_3,\n",
    "                           conv_ksize_layer_3,\n",
    "                           conv_strides_layer_3,\n",
    "                           pool_ksize_layer_3,\n",
    "                           pool_strides_layer_3)\n",
    "\n",
    "    # TODO: Apply a Flatten Layer\n",
    "    # Function Definition from Above:\n",
    "    #   flatten(x_tensor)\n",
    "    flatten_layer = flatten(conv_layer_3)\n",
    "\n",
    "    # TODO: Apply 1, 2, or 3 Fully Connected Layers\n",
    "    #    Play around with different number of outputs\n",
    "    # Function Definition from Above:\n",
    "    #   fully_conn(x_tensor, num_outputs)\n",
    "    # Layer 1\n",
    "    fc_layer_1 = fully_conn(flatten_layer, fc_layer_1_num_outputs)\n",
    "    fc_layer_1 = tf.nn.dropout(fc_layer_1, keep_prob)\n",
    "    \n",
    "    # Layer 2\n",
    "    fc_layer_2 = fully_conn(fc_layer_1, fc_layer_2_num_outputs)\n",
    "    fc_layer_2 = tf.nn.dropout(fc_layer_2, keep_prob)\n",
    "    \n",
    "    # TODO: Apply an Output Layer\n",
    "    #    Set this to the number of classes\n",
    "    # Function Definition from Above:\n",
    "    #   output(x_tensor, num_outputs)\n",
    "    output_layer = output(fc_layer_2, output_num_outputs)\n",
    "    \n",
    "    # TODO: return output\n",
    "    return output_layer\n",
    "\n",
    "\n",
    "\"\"\"\n",
    "DON'T MODIFY ANYTHING IN THIS CELL THAT IS BELOW THIS LINE\n",
    "\"\"\"\n",
    "\n",
    "##############################\n",
    "## Build the Neural Network ##\n",
    "##############################\n",
    "\n",
    "# Remove previous weights, bias, inputs, etc..\n",
    "tf.reset_default_graph()\n",
    "\n",
    "# Inputs\n",
    "x = neural_net_image_input((32, 32, 3))\n",
    "y = neural_net_label_input(10)\n",
    "keep_prob = neural_net_keep_prob_input()\n",
    "\n",
    "# Model\n",
    "logits = conv_net(x, keep_prob)\n",
    "\n",
    "# Name logits Tensor, so that is can be loaded from disk after training\n",
    "logits = tf.identity(logits, name='logits')\n",
    "\n",
    "# Loss and Optimizer\n",
    "cost = tf.reduce_mean(tf.nn.softmax_cross_entropy_with_logits(logits=logits, labels=y))\n",
    "optimizer = tf.train.AdamOptimizer().minimize(cost)\n",
    "\n",
    "# Accuracy\n",
    "correct_pred = tf.equal(tf.argmax(logits, 1), tf.argmax(y, 1))\n",
    "accuracy = tf.reduce_mean(tf.cast(correct_pred, tf.float32), name='accuracy')\n",
    "\n",
    "tests.test_conv_net(conv_net)"
   ]
  },
  {
   "cell_type": "markdown",
   "metadata": {
    "colab_type": "text",
    "id": "FyG4cfLP9ecQ"
   },
   "source": [
    "## Train the Neural Network\n",
    "### Single Optimization\n",
    "Implement the function `train_neural_network` to do a single optimization.  The optimization should use `optimizer` to optimize in `session` with a `feed_dict` of the following:\n",
    "* `x` for image input\n",
    "* `y` for labels\n",
    "* `keep_prob` for keep probability for dropout\n",
    "\n",
    "This function will be called for each batch, so `tf.global_variables_initializer()` has already been called.\n",
    "\n",
    "Note: Nothing needs to be returned. This function is only optimizing the neural network."
   ]
  },
  {
   "cell_type": "code",
   "execution_count": 22,
   "metadata": {
    "colab": {
     "base_uri": "https://localhost:8080/",
     "height": 34
    },
    "colab_type": "code",
    "id": "Oj7cp4JU9ecQ",
    "outputId": "40f21dd9-3a52-4134-ed3e-f73241b2314e"
   },
   "outputs": [
    {
     "name": "stdout",
     "output_type": "stream",
     "text": [
      "Tests Passed\n"
     ]
    }
   ],
   "source": [
    "def train_neural_network(session, optimizer, keep_probability, feature_batch, label_batch):\n",
    "    \"\"\"\n",
    "    Optimize the session on a batch of images and labels\n",
    "    : session: Current TensorFlow session\n",
    "    : optimizer: TensorFlow optimizer function\n",
    "    : keep_probability: keep probability\n",
    "    : feature_batch: Batch of Numpy image data\n",
    "    : label_batch: Batch of Numpy label data\n",
    "    \"\"\"\n",
    "    # TODO: Implement Function\n",
    "    feed_dict = { x: feature_batch, y: label_batch, keep_prob: keep_probability }\n",
    "    session.run(optimizer, feed_dict=feed_dict)\n",
    "\n",
    "\n",
    "\"\"\"\n",
    "DON'T MODIFY ANYTHING IN THIS CELL THAT IS BELOW THIS LINE\n",
    "\"\"\"\n",
    "tests.test_train_nn(train_neural_network)"
   ]
  },
  {
   "cell_type": "markdown",
   "metadata": {
    "colab_type": "text",
    "id": "1byvNiuN9ecS"
   },
   "source": [
    "### Show Stats\n",
    "Implement the function `print_stats` to print loss and validation accuracy.  Use the global variables `valid_features` and `valid_labels` to calculate validation accuracy.  Use a keep probability of `1.0` to calculate the loss and validation accuracy."
   ]
  },
  {
   "cell_type": "code",
   "execution_count": 0,
   "metadata": {
    "colab": {},
    "colab_type": "code",
    "id": "wI2I5H169ecT"
   },
   "outputs": [],
   "source": [
    "def print_stats(session, feature_batch, label_batch, cost, accuracy):\n",
    "    \"\"\"\n",
    "    Print information about loss and validation accuracy\n",
    "    : session: Current TensorFlow session\n",
    "    : feature_batch: Batch of Numpy image data\n",
    "    : label_batch: Batch of Numpy label data\n",
    "    : cost: TensorFlow cost function\n",
    "    : accuracy: TensorFlow accuracy function\n",
    "    \"\"\"\n",
    "    # TODO: Implement Function\n",
    "    feed_dict_loss = { x: feature_batch, y: label_batch, keep_prob: 1.0 }\n",
    "    loss = session.run(cost, feed_dict=feed_dict_loss)\n",
    "    \n",
    "    feed_dict_accuracy = { x: valid_features, y: valid_labels, keep_prob: 1.0 }\n",
    "    valid_accuracy = session.run(accuracy, feed_dict=feed_dict_accuracy)\n",
    "    \n",
    "    print('Loss: {:.4f} Validation Accuracy: {:.4f}'.format(loss, valid_accuracy))"
   ]
  },
  {
   "cell_type": "markdown",
   "metadata": {
    "colab_type": "text",
    "id": "q-Ozkv0T9ecV"
   },
   "source": [
    "### Hyperparameters\n",
    "Tune the following parameters:\n",
    "* Set `epochs` to the number of iterations until the network stops learning or start overfitting\n",
    "* Set `batch_size` to the highest number that your machine has memory for.  Most people set them to common sizes of memory:\n",
    " * 64\n",
    " * 128\n",
    " * 256\n",
    " * ...\n",
    "* Set `keep_probability` to the probability of keeping a node using dropout"
   ]
  },
  {
   "cell_type": "code",
   "execution_count": 0,
   "metadata": {
    "colab": {},
    "colab_type": "code",
    "id": "04mJa5bM9ecW"
   },
   "outputs": [],
   "source": [
    "# TODO: Tune Parameters\n",
    "epochs = 50\n",
    "batch_size = 256\n",
    "keep_probability = 0.7"
   ]
  },
  {
   "cell_type": "markdown",
   "metadata": {
    "colab_type": "text",
    "id": "RgOs8S849ecZ"
   },
   "source": [
    "### Train on a Single CIFAR-10 Batch\n",
    "Instead of training the neural network on all the CIFAR-10 batches of data, let's use a single batch. This should save time while you iterate on the model to get a better accuracy.  Once the final validation accuracy is 50% or greater, run the model on all the data in the next section."
   ]
  },
  {
   "cell_type": "code",
   "execution_count": 25,
   "metadata": {
    "colab": {
     "base_uri": "https://localhost:8080/",
     "height": 884
    },
    "colab_type": "code",
    "id": "zS-FzJ7j9eca",
    "outputId": "2172b155-03be-46f1-98a3-3588fe15bd4b"
   },
   "outputs": [
    {
     "name": "stdout",
     "output_type": "stream",
     "text": [
      "Checking the Training on a Single Batch...\n",
      "Epoch  1, CIFAR-10 Batch 1:  Loss: 2.0667 Validation Accuracy: 0.2794\n",
      "Epoch  2, CIFAR-10 Batch 1:  Loss: 1.7545 Validation Accuracy: 0.3490\n",
      "Epoch  3, CIFAR-10 Batch 1:  Loss: 1.5115 Validation Accuracy: 0.3840\n",
      "Epoch  4, CIFAR-10 Batch 1:  Loss: 1.3507 Validation Accuracy: 0.4178\n",
      "Epoch  5, CIFAR-10 Batch 1:  Loss: 1.2151 Validation Accuracy: 0.4210\n",
      "Epoch  6, CIFAR-10 Batch 1:  Loss: 1.0835 Validation Accuracy: 0.4554\n",
      "Epoch  7, CIFAR-10 Batch 1:  Loss: 0.9180 Validation Accuracy: 0.4878\n",
      "Epoch  8, CIFAR-10 Batch 1:  Loss: 0.8198 Validation Accuracy: 0.5004\n",
      "Epoch  9, CIFAR-10 Batch 1:  Loss: 0.7115 Validation Accuracy: 0.5084\n",
      "Epoch 10, CIFAR-10 Batch 1:  Loss: 0.6170 Validation Accuracy: 0.5232\n",
      "Epoch 11, CIFAR-10 Batch 1:  Loss: 0.5560 Validation Accuracy: 0.5248\n",
      "Epoch 12, CIFAR-10 Batch 1:  Loss: 0.5261 Validation Accuracy: 0.5066\n",
      "Epoch 13, CIFAR-10 Batch 1:  Loss: 0.4431 Validation Accuracy: 0.5600\n",
      "Epoch 14, CIFAR-10 Batch 1:  Loss: 0.3903 Validation Accuracy: 0.5336\n",
      "Epoch 15, CIFAR-10 Batch 1:  Loss: 0.3657 Validation Accuracy: 0.5498\n",
      "Epoch 16, CIFAR-10 Batch 1:  Loss: 0.2960 Validation Accuracy: 0.5556\n",
      "Epoch 17, CIFAR-10 Batch 1:  Loss: 0.2823 Validation Accuracy: 0.5332\n",
      "Epoch 18, CIFAR-10 Batch 1:  Loss: 0.2323 Validation Accuracy: 0.5516\n",
      "Epoch 19, CIFAR-10 Batch 1:  Loss: 0.2317 Validation Accuracy: 0.5460\n",
      "Epoch 20, CIFAR-10 Batch 1:  Loss: 0.2198 Validation Accuracy: 0.5496\n",
      "Epoch 21, CIFAR-10 Batch 1:  Loss: 0.1483 Validation Accuracy: 0.5666\n",
      "Epoch 22, CIFAR-10 Batch 1:  Loss: 0.1553 Validation Accuracy: 0.5526\n",
      "Epoch 23, CIFAR-10 Batch 1:  Loss: 0.1109 Validation Accuracy: 0.5624\n",
      "Epoch 24, CIFAR-10 Batch 1:  Loss: 0.1051 Validation Accuracy: 0.5738\n",
      "Epoch 25, CIFAR-10 Batch 1:  Loss: 0.0860 Validation Accuracy: 0.5820\n",
      "Epoch 26, CIFAR-10 Batch 1:  Loss: 0.0863 Validation Accuracy: 0.5820\n",
      "Epoch 27, CIFAR-10 Batch 1:  Loss: 0.0761 Validation Accuracy: 0.5720\n",
      "Epoch 28, CIFAR-10 Batch 1:  Loss: 0.1558 Validation Accuracy: 0.5398\n",
      "Epoch 29, CIFAR-10 Batch 1:  Loss: 0.0646 Validation Accuracy: 0.5734\n",
      "Epoch 30, CIFAR-10 Batch 1:  Loss: 0.0537 Validation Accuracy: 0.5808\n",
      "Epoch 31, CIFAR-10 Batch 1:  Loss: 0.0593 Validation Accuracy: 0.5782\n",
      "Epoch 32, CIFAR-10 Batch 1:  Loss: 0.0753 Validation Accuracy: 0.5414\n",
      "Epoch 33, CIFAR-10 Batch 1:  Loss: 0.0687 Validation Accuracy: 0.5566\n",
      "Epoch 34, CIFAR-10 Batch 1:  Loss: 0.0420 Validation Accuracy: 0.5604\n",
      "Epoch 35, CIFAR-10 Batch 1:  Loss: 0.0490 Validation Accuracy: 0.5746\n",
      "Epoch 36, CIFAR-10 Batch 1:  Loss: 0.0387 Validation Accuracy: 0.5742\n",
      "Epoch 37, CIFAR-10 Batch 1:  Loss: 0.0273 Validation Accuracy: 0.5740\n",
      "Epoch 38, CIFAR-10 Batch 1:  Loss: 0.0269 Validation Accuracy: 0.5634\n",
      "Epoch 39, CIFAR-10 Batch 1:  Loss: 0.0279 Validation Accuracy: 0.5608\n",
      "Epoch 40, CIFAR-10 Batch 1:  Loss: 0.0428 Validation Accuracy: 0.5364\n",
      "Epoch 41, CIFAR-10 Batch 1:  Loss: 0.0208 Validation Accuracy: 0.5676\n",
      "Epoch 42, CIFAR-10 Batch 1:  Loss: 0.0288 Validation Accuracy: 0.5758\n",
      "Epoch 43, CIFAR-10 Batch 1:  Loss: 0.0479 Validation Accuracy: 0.5722\n",
      "Epoch 44, CIFAR-10 Batch 1:  Loss: 0.0277 Validation Accuracy: 0.5542\n",
      "Epoch 45, CIFAR-10 Batch 1:  Loss: 0.0325 Validation Accuracy: 0.5374\n",
      "Epoch 46, CIFAR-10 Batch 1:  Loss: 0.0251 Validation Accuracy: 0.5472\n",
      "Epoch 47, CIFAR-10 Batch 1:  Loss: 0.0318 Validation Accuracy: 0.5712\n",
      "Epoch 48, CIFAR-10 Batch 1:  Loss: 0.0182 Validation Accuracy: 0.5836\n",
      "Epoch 49, CIFAR-10 Batch 1:  Loss: 0.0180 Validation Accuracy: 0.5470\n",
      "Epoch 50, CIFAR-10 Batch 1:  Loss: 0.0134 Validation Accuracy: 0.5690\n"
     ]
    }
   ],
   "source": [
    "\"\"\"\n",
    "DON'T MODIFY ANYTHING IN THIS CELL\n",
    "\"\"\"\n",
    "print('Checking the Training on a Single Batch...')\n",
    "with tf.Session() as sess:\n",
    "    # Initializing the variables\n",
    "    sess.run(tf.global_variables_initializer())\n",
    "    \n",
    "    # Training cycle\n",
    "    for epoch in range(epochs):\n",
    "        batch_i = 1\n",
    "        for batch_features, batch_labels in helper.load_preprocess_training_batch(batch_i, batch_size):\n",
    "            train_neural_network(sess, optimizer, keep_probability, batch_features, batch_labels)\n",
    "        print('Epoch {:>2}, CIFAR-10 Batch {}:  '.format(epoch + 1, batch_i), end='')\n",
    "        print_stats(sess, batch_features, batch_labels, cost, accuracy)"
   ]
  },
  {
   "cell_type": "markdown",
   "metadata": {
    "colab_type": "text",
    "id": "lpLgglgH9ecc"
   },
   "source": [
    "### Fully Train the Model\n",
    "Now that you got a good accuracy with a single CIFAR-10 batch, try it with all five batches."
   ]
  },
  {
   "cell_type": "code",
   "execution_count": 26,
   "metadata": {
    "colab": {
     "base_uri": "https://localhost:8080/",
     "height": 4284
    },
    "colab_type": "code",
    "id": "oupGDKMD9ece",
    "outputId": "7c17f4fb-6aae-4f90-f42b-4eef0e6dc901"
   },
   "outputs": [
    {
     "name": "stdout",
     "output_type": "stream",
     "text": [
      "Training...\n",
      "Epoch  1, CIFAR-10 Batch 1:  Loss: 2.0656 Validation Accuracy: 0.2558\n",
      "Epoch  1, CIFAR-10 Batch 2:  Loss: 1.7992 Validation Accuracy: 0.3336\n",
      "Epoch  1, CIFAR-10 Batch 3:  Loss: 1.4594 Validation Accuracy: 0.3822\n",
      "Epoch  1, CIFAR-10 Batch 4:  Loss: 1.4606 Validation Accuracy: 0.3764\n",
      "Epoch  1, CIFAR-10 Batch 5:  Loss: 1.3537 Validation Accuracy: 0.4640\n",
      "Epoch  2, CIFAR-10 Batch 1:  Loss: 1.3149 Validation Accuracy: 0.4868\n",
      "Epoch  2, CIFAR-10 Batch 2:  Loss: 1.3456 Validation Accuracy: 0.4672\n",
      "Epoch  2, CIFAR-10 Batch 3:  Loss: 1.0381 Validation Accuracy: 0.4812\n",
      "Epoch  2, CIFAR-10 Batch 4:  Loss: 1.1560 Validation Accuracy: 0.5222\n",
      "Epoch  2, CIFAR-10 Batch 5:  Loss: 1.1293 Validation Accuracy: 0.5336\n",
      "Epoch  3, CIFAR-10 Batch 1:  Loss: 1.0552 Validation Accuracy: 0.5494\n",
      "Epoch  3, CIFAR-10 Batch 2:  Loss: 1.0892 Validation Accuracy: 0.5600\n",
      "Epoch  3, CIFAR-10 Batch 3:  Loss: 0.9072 Validation Accuracy: 0.5362\n",
      "Epoch  3, CIFAR-10 Batch 4:  Loss: 0.9859 Validation Accuracy: 0.5706\n",
      "Epoch  3, CIFAR-10 Batch 5:  Loss: 0.9884 Validation Accuracy: 0.5638\n",
      "Epoch  4, CIFAR-10 Batch 1:  Loss: 0.8534 Validation Accuracy: 0.5858\n",
      "Epoch  4, CIFAR-10 Batch 2:  Loss: 0.8997 Validation Accuracy: 0.5906\n",
      "Epoch  4, CIFAR-10 Batch 3:  Loss: 0.7349 Validation Accuracy: 0.5582\n",
      "Epoch  4, CIFAR-10 Batch 4:  Loss: 0.7882 Validation Accuracy: 0.5952\n",
      "Epoch  4, CIFAR-10 Batch 5:  Loss: 0.8169 Validation Accuracy: 0.5980\n",
      "Epoch  5, CIFAR-10 Batch 1:  Loss: 0.7951 Validation Accuracy: 0.6182\n",
      "Epoch  5, CIFAR-10 Batch 2:  Loss: 0.7340 Validation Accuracy: 0.6026\n",
      "Epoch  5, CIFAR-10 Batch 3:  Loss: 0.5753 Validation Accuracy: 0.6100\n",
      "Epoch  5, CIFAR-10 Batch 4:  Loss: 0.6227 Validation Accuracy: 0.6150\n",
      "Epoch  5, CIFAR-10 Batch 5:  Loss: 0.6536 Validation Accuracy: 0.6258\n",
      "Epoch  6, CIFAR-10 Batch 1:  Loss: 0.6900 Validation Accuracy: 0.6206\n",
      "Epoch  6, CIFAR-10 Batch 2:  Loss: 0.5878 Validation Accuracy: 0.6138\n",
      "Epoch  6, CIFAR-10 Batch 3:  Loss: 0.4954 Validation Accuracy: 0.6378\n",
      "Epoch  6, CIFAR-10 Batch 4:  Loss: 0.4857 Validation Accuracy: 0.6334\n",
      "Epoch  6, CIFAR-10 Batch 5:  Loss: 0.5445 Validation Accuracy: 0.6256\n",
      "Epoch  7, CIFAR-10 Batch 1:  Loss: 0.5786 Validation Accuracy: 0.6446\n",
      "Epoch  7, CIFAR-10 Batch 2:  Loss: 0.4849 Validation Accuracy: 0.6340\n",
      "Epoch  7, CIFAR-10 Batch 3:  Loss: 0.4525 Validation Accuracy: 0.6366\n",
      "Epoch  7, CIFAR-10 Batch 4:  Loss: 0.4677 Validation Accuracy: 0.6392\n",
      "Epoch  7, CIFAR-10 Batch 5:  Loss: 0.3683 Validation Accuracy: 0.6468\n",
      "Epoch  8, CIFAR-10 Batch 1:  Loss: 0.5527 Validation Accuracy: 0.6470\n",
      "Epoch  8, CIFAR-10 Batch 2:  Loss: 0.4269 Validation Accuracy: 0.6504\n",
      "Epoch  8, CIFAR-10 Batch 3:  Loss: 0.3915 Validation Accuracy: 0.6608\n",
      "Epoch  8, CIFAR-10 Batch 4:  Loss: 0.4038 Validation Accuracy: 0.6482\n",
      "Epoch  8, CIFAR-10 Batch 5:  Loss: 0.3125 Validation Accuracy: 0.6650\n",
      "Epoch  9, CIFAR-10 Batch 1:  Loss: 0.5384 Validation Accuracy: 0.6370\n",
      "Epoch  9, CIFAR-10 Batch 2:  Loss: 0.3539 Validation Accuracy: 0.6648\n",
      "Epoch  9, CIFAR-10 Batch 3:  Loss: 0.3216 Validation Accuracy: 0.6598\n",
      "Epoch  9, CIFAR-10 Batch 4:  Loss: 0.3356 Validation Accuracy: 0.6620\n",
      "Epoch  9, CIFAR-10 Batch 5:  Loss: 0.2349 Validation Accuracy: 0.6546\n",
      "Epoch 10, CIFAR-10 Batch 1:  Loss: 0.5174 Validation Accuracy: 0.6392\n",
      "Epoch 10, CIFAR-10 Batch 2:  Loss: 0.3022 Validation Accuracy: 0.6616\n",
      "Epoch 10, CIFAR-10 Batch 3:  Loss: 0.2236 Validation Accuracy: 0.6816\n",
      "Epoch 10, CIFAR-10 Batch 4:  Loss: 0.3045 Validation Accuracy: 0.6760\n",
      "Epoch 10, CIFAR-10 Batch 5:  Loss: 0.2550 Validation Accuracy: 0.6448\n",
      "Epoch 11, CIFAR-10 Batch 1:  Loss: 0.4011 Validation Accuracy: 0.6590\n",
      "Epoch 11, CIFAR-10 Batch 2:  Loss: 0.2606 Validation Accuracy: 0.6742\n",
      "Epoch 11, CIFAR-10 Batch 3:  Loss: 0.2031 Validation Accuracy: 0.6726\n",
      "Epoch 11, CIFAR-10 Batch 4:  Loss: 0.2611 Validation Accuracy: 0.6768\n",
      "Epoch 11, CIFAR-10 Batch 5:  Loss: 0.1900 Validation Accuracy: 0.6706\n",
      "Epoch 12, CIFAR-10 Batch 1:  Loss: 0.3576 Validation Accuracy: 0.6616\n",
      "Epoch 12, CIFAR-10 Batch 2:  Loss: 0.2445 Validation Accuracy: 0.6774\n",
      "Epoch 12, CIFAR-10 Batch 3:  Loss: 0.1976 Validation Accuracy: 0.6808\n",
      "Epoch 12, CIFAR-10 Batch 4:  Loss: 0.2389 Validation Accuracy: 0.6798\n",
      "Epoch 12, CIFAR-10 Batch 5:  Loss: 0.1899 Validation Accuracy: 0.6724\n",
      "Epoch 13, CIFAR-10 Batch 1:  Loss: 0.3393 Validation Accuracy: 0.6570\n",
      "Epoch 13, CIFAR-10 Batch 2:  Loss: 0.1957 Validation Accuracy: 0.6798\n",
      "Epoch 13, CIFAR-10 Batch 3:  Loss: 0.1744 Validation Accuracy: 0.6790\n",
      "Epoch 13, CIFAR-10 Batch 4:  Loss: 0.2043 Validation Accuracy: 0.6850\n",
      "Epoch 13, CIFAR-10 Batch 5:  Loss: 0.1254 Validation Accuracy: 0.6810\n",
      "Epoch 14, CIFAR-10 Batch 1:  Loss: 0.2986 Validation Accuracy: 0.6550\n",
      "Epoch 14, CIFAR-10 Batch 2:  Loss: 0.1828 Validation Accuracy: 0.6920\n",
      "Epoch 14, CIFAR-10 Batch 3:  Loss: 0.1406 Validation Accuracy: 0.6836\n",
      "Epoch 14, CIFAR-10 Batch 4:  Loss: 0.1948 Validation Accuracy: 0.6830\n",
      "Epoch 14, CIFAR-10 Batch 5:  Loss: 0.1408 Validation Accuracy: 0.6820\n",
      "Epoch 15, CIFAR-10 Batch 1:  Loss: 0.2398 Validation Accuracy: 0.6766\n",
      "Epoch 15, CIFAR-10 Batch 2:  Loss: 0.1709 Validation Accuracy: 0.6922\n",
      "Epoch 15, CIFAR-10 Batch 3:  Loss: 0.1426 Validation Accuracy: 0.6808\n",
      "Epoch 15, CIFAR-10 Batch 4:  Loss: 0.1599 Validation Accuracy: 0.6802\n",
      "Epoch 15, CIFAR-10 Batch 5:  Loss: 0.1132 Validation Accuracy: 0.6872\n",
      "Epoch 16, CIFAR-10 Batch 1:  Loss: 0.2451 Validation Accuracy: 0.6548\n",
      "Epoch 16, CIFAR-10 Batch 2:  Loss: 0.1494 Validation Accuracy: 0.6952\n",
      "Epoch 16, CIFAR-10 Batch 3:  Loss: 0.1149 Validation Accuracy: 0.6920\n",
      "Epoch 16, CIFAR-10 Batch 4:  Loss: 0.1700 Validation Accuracy: 0.6624\n",
      "Epoch 16, CIFAR-10 Batch 5:  Loss: 0.1047 Validation Accuracy: 0.6806\n",
      "Epoch 17, CIFAR-10 Batch 1:  Loss: 0.2097 Validation Accuracy: 0.6700\n",
      "Epoch 17, CIFAR-10 Batch 2:  Loss: 0.1254 Validation Accuracy: 0.7018\n",
      "Epoch 17, CIFAR-10 Batch 3:  Loss: 0.0768 Validation Accuracy: 0.6898\n",
      "Epoch 17, CIFAR-10 Batch 4:  Loss: 0.1274 Validation Accuracy: 0.6638\n",
      "Epoch 17, CIFAR-10 Batch 5:  Loss: 0.1080 Validation Accuracy: 0.6866\n",
      "Epoch 18, CIFAR-10 Batch 1:  Loss: 0.1787 Validation Accuracy: 0.6756\n",
      "Epoch 18, CIFAR-10 Batch 2:  Loss: 0.0978 Validation Accuracy: 0.6956\n",
      "Epoch 18, CIFAR-10 Batch 3:  Loss: 0.0957 Validation Accuracy: 0.6752\n",
      "Epoch 18, CIFAR-10 Batch 4:  Loss: 0.1138 Validation Accuracy: 0.6806\n",
      "Epoch 18, CIFAR-10 Batch 5:  Loss: 0.0814 Validation Accuracy: 0.6842\n",
      "Epoch 19, CIFAR-10 Batch 1:  Loss: 0.1633 Validation Accuracy: 0.6820\n",
      "Epoch 19, CIFAR-10 Batch 2:  Loss: 0.1069 Validation Accuracy: 0.6806\n",
      "Epoch 19, CIFAR-10 Batch 3:  Loss: 0.0777 Validation Accuracy: 0.6804\n",
      "Epoch 19, CIFAR-10 Batch 4:  Loss: 0.1279 Validation Accuracy: 0.6666\n",
      "Epoch 19, CIFAR-10 Batch 5:  Loss: 0.0739 Validation Accuracy: 0.6898\n",
      "Epoch 20, CIFAR-10 Batch 1:  Loss: 0.1537 Validation Accuracy: 0.6750\n",
      "Epoch 20, CIFAR-10 Batch 2:  Loss: 0.0888 Validation Accuracy: 0.6900\n",
      "Epoch 20, CIFAR-10 Batch 3:  Loss: 0.0642 Validation Accuracy: 0.6820\n",
      "Epoch 20, CIFAR-10 Batch 4:  Loss: 0.1385 Validation Accuracy: 0.6680\n",
      "Epoch 20, CIFAR-10 Batch 5:  Loss: 0.0692 Validation Accuracy: 0.6884\n",
      "Epoch 21, CIFAR-10 Batch 1:  Loss: 0.1427 Validation Accuracy: 0.6780\n",
      "Epoch 21, CIFAR-10 Batch 2:  Loss: 0.0935 Validation Accuracy: 0.6854\n",
      "Epoch 21, CIFAR-10 Batch 3:  Loss: 0.0996 Validation Accuracy: 0.6502\n",
      "Epoch 21, CIFAR-10 Batch 4:  Loss: 0.1078 Validation Accuracy: 0.6920\n",
      "Epoch 21, CIFAR-10 Batch 5:  Loss: 0.0830 Validation Accuracy: 0.6832\n",
      "Epoch 22, CIFAR-10 Batch 1:  Loss: 0.1453 Validation Accuracy: 0.6852\n",
      "Epoch 22, CIFAR-10 Batch 2:  Loss: 0.0851 Validation Accuracy: 0.6890\n",
      "Epoch 22, CIFAR-10 Batch 3:  Loss: 0.0760 Validation Accuracy: 0.6812\n",
      "Epoch 22, CIFAR-10 Batch 4:  Loss: 0.0981 Validation Accuracy: 0.6890\n",
      "Epoch 22, CIFAR-10 Batch 5:  Loss: 0.0762 Validation Accuracy: 0.6862\n",
      "Epoch 23, CIFAR-10 Batch 1:  Loss: 0.1410 Validation Accuracy: 0.7006\n",
      "Epoch 23, CIFAR-10 Batch 2:  Loss: 0.0912 Validation Accuracy: 0.6968\n",
      "Epoch 23, CIFAR-10 Batch 3:  Loss: 0.0623 Validation Accuracy: 0.6872\n",
      "Epoch 23, CIFAR-10 Batch 4:  Loss: 0.1071 Validation Accuracy: 0.6762\n",
      "Epoch 23, CIFAR-10 Batch 5:  Loss: 0.0709 Validation Accuracy: 0.7052\n",
      "Epoch 24, CIFAR-10 Batch 1:  Loss: 0.1102 Validation Accuracy: 0.6956\n",
      "Epoch 24, CIFAR-10 Batch 2:  Loss: 0.0909 Validation Accuracy: 0.6874\n",
      "Epoch 24, CIFAR-10 Batch 3:  Loss: 0.0635 Validation Accuracy: 0.6728\n",
      "Epoch 24, CIFAR-10 Batch 4:  Loss: 0.1244 Validation Accuracy: 0.6642\n",
      "Epoch 24, CIFAR-10 Batch 5:  Loss: 0.0712 Validation Accuracy: 0.7032\n",
      "Epoch 25, CIFAR-10 Batch 1:  Loss: 0.0860 Validation Accuracy: 0.7024\n",
      "Epoch 25, CIFAR-10 Batch 2:  Loss: 0.0644 Validation Accuracy: 0.7010\n",
      "Epoch 25, CIFAR-10 Batch 3:  Loss: 0.0485 Validation Accuracy: 0.6826\n",
      "Epoch 25, CIFAR-10 Batch 4:  Loss: 0.1074 Validation Accuracy: 0.6608\n",
      "Epoch 25, CIFAR-10 Batch 5:  Loss: 0.0677 Validation Accuracy: 0.6930\n",
      "Epoch 26, CIFAR-10 Batch 1:  Loss: 0.0757 Validation Accuracy: 0.7016\n",
      "Epoch 26, CIFAR-10 Batch 2:  Loss: 0.0516 Validation Accuracy: 0.7056\n",
      "Epoch 26, CIFAR-10 Batch 3:  Loss: 0.0456 Validation Accuracy: 0.6818\n",
      "Epoch 26, CIFAR-10 Batch 4:  Loss: 0.0711 Validation Accuracy: 0.6686\n",
      "Epoch 26, CIFAR-10 Batch 5:  Loss: 0.0536 Validation Accuracy: 0.6940\n",
      "Epoch 27, CIFAR-10 Batch 1:  Loss: 0.0767 Validation Accuracy: 0.7000\n",
      "Epoch 27, CIFAR-10 Batch 2:  Loss: 0.0584 Validation Accuracy: 0.7004\n",
      "Epoch 27, CIFAR-10 Batch 3:  Loss: 0.0394 Validation Accuracy: 0.6800\n",
      "Epoch 27, CIFAR-10 Batch 4:  Loss: 0.0490 Validation Accuracy: 0.6890\n",
      "Epoch 27, CIFAR-10 Batch 5:  Loss: 0.0447 Validation Accuracy: 0.7000\n",
      "Epoch 28, CIFAR-10 Batch 1:  Loss: 0.0866 Validation Accuracy: 0.6906\n",
      "Epoch 28, CIFAR-10 Batch 2:  Loss: 0.0615 Validation Accuracy: 0.6914\n",
      "Epoch 28, CIFAR-10 Batch 3:  Loss: 0.0335 Validation Accuracy: 0.7000\n",
      "Epoch 28, CIFAR-10 Batch 4:  Loss: 0.0477 Validation Accuracy: 0.6800\n",
      "Epoch 28, CIFAR-10 Batch 5:  Loss: 0.0394 Validation Accuracy: 0.6920\n",
      "Epoch 29, CIFAR-10 Batch 1:  Loss: 0.0555 Validation Accuracy: 0.7056\n",
      "Epoch 29, CIFAR-10 Batch 2:  Loss: 0.0610 Validation Accuracy: 0.6870\n",
      "Epoch 29, CIFAR-10 Batch 3:  Loss: 0.0310 Validation Accuracy: 0.6982\n",
      "Epoch 29, CIFAR-10 Batch 4:  Loss: 0.0509 Validation Accuracy: 0.6794\n",
      "Epoch 29, CIFAR-10 Batch 5:  Loss: 0.0640 Validation Accuracy: 0.6988\n",
      "Epoch 30, CIFAR-10 Batch 1:  Loss: 0.0609 Validation Accuracy: 0.6902\n",
      "Epoch 30, CIFAR-10 Batch 2:  Loss: 0.0658 Validation Accuracy: 0.6896\n",
      "Epoch 30, CIFAR-10 Batch 3:  Loss: 0.0283 Validation Accuracy: 0.7084\n",
      "Epoch 30, CIFAR-10 Batch 4:  Loss: 0.0433 Validation Accuracy: 0.6744\n",
      "Epoch 30, CIFAR-10 Batch 5:  Loss: 0.0419 Validation Accuracy: 0.6974\n",
      "Epoch 31, CIFAR-10 Batch 1:  Loss: 0.0513 Validation Accuracy: 0.6936\n",
      "Epoch 31, CIFAR-10 Batch 2:  Loss: 0.0545 Validation Accuracy: 0.6872\n",
      "Epoch 31, CIFAR-10 Batch 3:  Loss: 0.0408 Validation Accuracy: 0.7004\n",
      "Epoch 31, CIFAR-10 Batch 4:  Loss: 0.0611 Validation Accuracy: 0.6794\n",
      "Epoch 31, CIFAR-10 Batch 5:  Loss: 0.0384 Validation Accuracy: 0.6926\n",
      "Epoch 32, CIFAR-10 Batch 1:  Loss: 0.0418 Validation Accuracy: 0.7014\n",
      "Epoch 32, CIFAR-10 Batch 2:  Loss: 0.0509 Validation Accuracy: 0.6586\n",
      "Epoch 32, CIFAR-10 Batch 3:  Loss: 0.0354 Validation Accuracy: 0.6952\n",
      "Epoch 32, CIFAR-10 Batch 4:  Loss: 0.0626 Validation Accuracy: 0.6814\n",
      "Epoch 32, CIFAR-10 Batch 5:  Loss: 0.0274 Validation Accuracy: 0.6994\n",
      "Epoch 33, CIFAR-10 Batch 1:  Loss: 0.0376 Validation Accuracy: 0.7080\n",
      "Epoch 33, CIFAR-10 Batch 2:  Loss: 0.0636 Validation Accuracy: 0.6624\n",
      "Epoch 33, CIFAR-10 Batch 3:  Loss: 0.0327 Validation Accuracy: 0.6856\n",
      "Epoch 33, CIFAR-10 Batch 4:  Loss: 0.0538 Validation Accuracy: 0.6848\n",
      "Epoch 33, CIFAR-10 Batch 5:  Loss: 0.0363 Validation Accuracy: 0.6936\n",
      "Epoch 34, CIFAR-10 Batch 1:  Loss: 0.0376 Validation Accuracy: 0.6908\n",
      "Epoch 34, CIFAR-10 Batch 2:  Loss: 0.0643 Validation Accuracy: 0.6512\n",
      "Epoch 34, CIFAR-10 Batch 3:  Loss: 0.0404 Validation Accuracy: 0.6918\n",
      "Epoch 34, CIFAR-10 Batch 4:  Loss: 0.0493 Validation Accuracy: 0.6774\n",
      "Epoch 34, CIFAR-10 Batch 5:  Loss: 0.0351 Validation Accuracy: 0.6962\n",
      "Epoch 35, CIFAR-10 Batch 1:  Loss: 0.0370 Validation Accuracy: 0.7022\n",
      "Epoch 35, CIFAR-10 Batch 2:  Loss: 0.0246 Validation Accuracy: 0.6836\n",
      "Epoch 35, CIFAR-10 Batch 3:  Loss: 0.0435 Validation Accuracy: 0.6890\n",
      "Epoch 35, CIFAR-10 Batch 4:  Loss: 0.0429 Validation Accuracy: 0.6958\n",
      "Epoch 35, CIFAR-10 Batch 5:  Loss: 0.0239 Validation Accuracy: 0.6970\n",
      "Epoch 36, CIFAR-10 Batch 1:  Loss: 0.0452 Validation Accuracy: 0.6988\n",
      "Epoch 36, CIFAR-10 Batch 2:  Loss: 0.0280 Validation Accuracy: 0.7060\n",
      "Epoch 36, CIFAR-10 Batch 3:  Loss: 0.0232 Validation Accuracy: 0.6896\n",
      "Epoch 36, CIFAR-10 Batch 4:  Loss: 0.0292 Validation Accuracy: 0.6868\n",
      "Epoch 36, CIFAR-10 Batch 5:  Loss: 0.0180 Validation Accuracy: 0.7012\n",
      "Epoch 37, CIFAR-10 Batch 1:  Loss: 0.0356 Validation Accuracy: 0.7010\n",
      "Epoch 37, CIFAR-10 Batch 2:  Loss: 0.0195 Validation Accuracy: 0.6914\n",
      "Epoch 37, CIFAR-10 Batch 3:  Loss: 0.0367 Validation Accuracy: 0.6764\n",
      "Epoch 37, CIFAR-10 Batch 4:  Loss: 0.0391 Validation Accuracy: 0.6890\n",
      "Epoch 37, CIFAR-10 Batch 5:  Loss: 0.0411 Validation Accuracy: 0.7060\n",
      "Epoch 38, CIFAR-10 Batch 1:  Loss: 0.0250 Validation Accuracy: 0.7012\n",
      "Epoch 38, CIFAR-10 Batch 2:  Loss: 0.0212 Validation Accuracy: 0.6874\n",
      "Epoch 38, CIFAR-10 Batch 3:  Loss: 0.0271 Validation Accuracy: 0.6874\n",
      "Epoch 38, CIFAR-10 Batch 4:  Loss: 0.0346 Validation Accuracy: 0.6988\n",
      "Epoch 38, CIFAR-10 Batch 5:  Loss: 0.0261 Validation Accuracy: 0.7040\n",
      "Epoch 39, CIFAR-10 Batch 1:  Loss: 0.0309 Validation Accuracy: 0.7026\n",
      "Epoch 39, CIFAR-10 Batch 2:  Loss: 0.0160 Validation Accuracy: 0.7004\n",
      "Epoch 39, CIFAR-10 Batch 3:  Loss: 0.0202 Validation Accuracy: 0.6912\n",
      "Epoch 39, CIFAR-10 Batch 4:  Loss: 0.0446 Validation Accuracy: 0.6900\n",
      "Epoch 39, CIFAR-10 Batch 5:  Loss: 0.0148 Validation Accuracy: 0.7016\n",
      "Epoch 40, CIFAR-10 Batch 1:  Loss: 0.0245 Validation Accuracy: 0.6972\n",
      "Epoch 40, CIFAR-10 Batch 2:  Loss: 0.0281 Validation Accuracy: 0.6858\n",
      "Epoch 40, CIFAR-10 Batch 3:  Loss: 0.0116 Validation Accuracy: 0.7016\n",
      "Epoch 40, CIFAR-10 Batch 4:  Loss: 0.0290 Validation Accuracy: 0.6866\n",
      "Epoch 40, CIFAR-10 Batch 5:  Loss: 0.0407 Validation Accuracy: 0.6794\n",
      "Epoch 41, CIFAR-10 Batch 1:  Loss: 0.0449 Validation Accuracy: 0.6846\n",
      "Epoch 41, CIFAR-10 Batch 2:  Loss: 0.0331 Validation Accuracy: 0.6644\n",
      "Epoch 41, CIFAR-10 Batch 3:  Loss: 0.0160 Validation Accuracy: 0.7036\n",
      "Epoch 41, CIFAR-10 Batch 4:  Loss: 0.0246 Validation Accuracy: 0.6854\n",
      "Epoch 41, CIFAR-10 Batch 5:  Loss: 0.0335 Validation Accuracy: 0.6972\n",
      "Epoch 42, CIFAR-10 Batch 1:  Loss: 0.0392 Validation Accuracy: 0.6688\n",
      "Epoch 42, CIFAR-10 Batch 2:  Loss: 0.0201 Validation Accuracy: 0.6760\n",
      "Epoch 42, CIFAR-10 Batch 3:  Loss: 0.0214 Validation Accuracy: 0.7084\n",
      "Epoch 42, CIFAR-10 Batch 4:  Loss: 0.0261 Validation Accuracy: 0.6970\n",
      "Epoch 42, CIFAR-10 Batch 5:  Loss: 0.0264 Validation Accuracy: 0.6932\n",
      "Epoch 43, CIFAR-10 Batch 1:  Loss: 0.0421 Validation Accuracy: 0.6724\n",
      "Epoch 43, CIFAR-10 Batch 2:  Loss: 0.0188 Validation Accuracy: 0.6752\n",
      "Epoch 43, CIFAR-10 Batch 3:  Loss: 0.0229 Validation Accuracy: 0.7022\n",
      "Epoch 43, CIFAR-10 Batch 4:  Loss: 0.0178 Validation Accuracy: 0.6998\n",
      "Epoch 43, CIFAR-10 Batch 5:  Loss: 0.0180 Validation Accuracy: 0.6946\n",
      "Epoch 44, CIFAR-10 Batch 1:  Loss: 0.0186 Validation Accuracy: 0.6864\n",
      "Epoch 44, CIFAR-10 Batch 2:  Loss: 0.0297 Validation Accuracy: 0.6794\n",
      "Epoch 44, CIFAR-10 Batch 3:  Loss: 0.0392 Validation Accuracy: 0.6984\n",
      "Epoch 44, CIFAR-10 Batch 4:  Loss: 0.0168 Validation Accuracy: 0.6926\n",
      "Epoch 44, CIFAR-10 Batch 5:  Loss: 0.0084 Validation Accuracy: 0.7042\n",
      "Epoch 45, CIFAR-10 Batch 1:  Loss: 0.0189 Validation Accuracy: 0.6766\n",
      "Epoch 45, CIFAR-10 Batch 2:  Loss: 0.0141 Validation Accuracy: 0.6892\n",
      "Epoch 45, CIFAR-10 Batch 3:  Loss: 0.0120 Validation Accuracy: 0.7042\n",
      "Epoch 45, CIFAR-10 Batch 4:  Loss: 0.0107 Validation Accuracy: 0.7042\n",
      "Epoch 45, CIFAR-10 Batch 5:  Loss: 0.0090 Validation Accuracy: 0.7036\n",
      "Epoch 46, CIFAR-10 Batch 1:  Loss: 0.0285 Validation Accuracy: 0.6704\n",
      "Epoch 46, CIFAR-10 Batch 2:  Loss: 0.0116 Validation Accuracy: 0.6960\n",
      "Epoch 46, CIFAR-10 Batch 3:  Loss: 0.0282 Validation Accuracy: 0.7056\n",
      "Epoch 46, CIFAR-10 Batch 4:  Loss: 0.0154 Validation Accuracy: 0.6974\n",
      "Epoch 46, CIFAR-10 Batch 5:  Loss: 0.0131 Validation Accuracy: 0.7032\n",
      "Epoch 47, CIFAR-10 Batch 1:  Loss: 0.0278 Validation Accuracy: 0.6688\n",
      "Epoch 47, CIFAR-10 Batch 2:  Loss: 0.0222 Validation Accuracy: 0.6998\n",
      "Epoch 47, CIFAR-10 Batch 3:  Loss: 0.0118 Validation Accuracy: 0.7118\n",
      "Epoch 47, CIFAR-10 Batch 4:  Loss: 0.0203 Validation Accuracy: 0.6996\n",
      "Epoch 47, CIFAR-10 Batch 5:  Loss: 0.0068 Validation Accuracy: 0.7040\n",
      "Epoch 48, CIFAR-10 Batch 1:  Loss: 0.0312 Validation Accuracy: 0.6818\n",
      "Epoch 48, CIFAR-10 Batch 2:  Loss: 0.0228 Validation Accuracy: 0.6876\n",
      "Epoch 48, CIFAR-10 Batch 3:  Loss: 0.0103 Validation Accuracy: 0.6978\n",
      "Epoch 48, CIFAR-10 Batch 4:  Loss: 0.0258 Validation Accuracy: 0.6746\n",
      "Epoch 48, CIFAR-10 Batch 5:  Loss: 0.0201 Validation Accuracy: 0.6960\n",
      "Epoch 49, CIFAR-10 Batch 1:  Loss: 0.0097 Validation Accuracy: 0.6904\n",
      "Epoch 49, CIFAR-10 Batch 2:  Loss: 0.0131 Validation Accuracy: 0.6946\n",
      "Epoch 49, CIFAR-10 Batch 3:  Loss: 0.0129 Validation Accuracy: 0.7008\n",
      "Epoch 49, CIFAR-10 Batch 4:  Loss: 0.0101 Validation Accuracy: 0.6992\n",
      "Epoch 49, CIFAR-10 Batch 5:  Loss: 0.0136 Validation Accuracy: 0.6904\n",
      "Epoch 50, CIFAR-10 Batch 1:  Loss: 0.0081 Validation Accuracy: 0.6910\n",
      "Epoch 50, CIFAR-10 Batch 2:  Loss: 0.0194 Validation Accuracy: 0.6794\n",
      "Epoch 50, CIFAR-10 Batch 3:  Loss: 0.0148 Validation Accuracy: 0.6966\n",
      "Epoch 50, CIFAR-10 Batch 4:  Loss: 0.0107 Validation Accuracy: 0.6926\n",
      "Epoch 50, CIFAR-10 Batch 5:  Loss: 0.0087 Validation Accuracy: 0.6940\n"
     ]
    }
   ],
   "source": [
    "\"\"\"\n",
    "DON'T MODIFY ANYTHING IN THIS CELL\n",
    "\"\"\"\n",
    "save_model_path = './image_classification'\n",
    "\n",
    "print('Training...')\n",
    "with tf.Session() as sess:\n",
    "    # Initializing the variables\n",
    "    sess.run(tf.global_variables_initializer())\n",
    "    \n",
    "    # Training cycle\n",
    "    for epoch in range(epochs):\n",
    "        # Loop over all batches\n",
    "        n_batches = 5\n",
    "        for batch_i in range(1, n_batches + 1):\n",
    "            for batch_features, batch_labels in helper.load_preprocess_training_batch(batch_i, batch_size):\n",
    "                train_neural_network(sess, optimizer, keep_probability, batch_features, batch_labels)\n",
    "            print('Epoch {:>2}, CIFAR-10 Batch {}:  '.format(epoch + 1, batch_i), end='')\n",
    "            print_stats(sess, batch_features, batch_labels, cost, accuracy)\n",
    "            \n",
    "    # Save Model\n",
    "    saver = tf.train.Saver()\n",
    "    save_path = saver.save(sess, save_model_path)"
   ]
  },
  {
   "cell_type": "markdown",
   "metadata": {
    "colab_type": "text",
    "id": "q-9riPMB9eci"
   },
   "source": [
    "# Checkpoint\n",
    "The model has been saved to disk.\n",
    "## Test Model\n",
    "Test your model against the test dataset.  This will be your final accuracy. You should have an accuracy greater than 50%. If you don't, keep tweaking the model architecture and parameters."
   ]
  },
  {
   "cell_type": "code",
   "execution_count": 27,
   "metadata": {
    "colab": {
     "base_uri": "https://localhost:8080/",
     "height": 387
    },
    "colab_type": "code",
    "id": "sxw88juJ9eci",
    "outputId": "fd0f1a47-fd06-4eb8-c143-e3bf2684026b"
   },
   "outputs": [
    {
     "name": "stdout",
     "output_type": "stream",
     "text": [
      "INFO:tensorflow:Restoring parameters from ./image_classification\n",
      "Testing Accuracy: 0.69521484375\n",
      "\n"
     ]
    },
    {
     "data": {
      "image/png": "[encoded data removed]",
      "text/plain": [
       "<matplotlib.figure.Figure at 0x7f1232b012b0>"
      ]
     },
     "metadata": {
      "image/png": {
       "height": 319,
       "width": 354
      },
      "tags": []
     },
     "output_type": "display_data"
    }
   ],
   "source": [
    "\"\"\"\n",
    "DON'T MODIFY ANYTHING IN THIS CELL\n",
    "\"\"\"\n",
    "%matplotlib inline\n",
    "%config InlineBackend.figure_format = 'retina'\n",
    "\n",
    "import tensorflow as tf\n",
    "import pickle\n",
    "import helper\n",
    "import random\n",
    "\n",
    "# Set batch size if not already set\n",
    "try:\n",
    "    if batch_size:\n",
    "        pass\n",
    "except NameError:\n",
    "    batch_size = 64\n",
    "\n",
    "save_model_path = './image_classification'\n",
    "n_samples = 4\n",
    "top_n_predictions = 3\n",
    "\n",
    "def test_model():\n",
    "    \"\"\"\n",
    "    Test the saved model against the test dataset\n",
    "    \"\"\"\n",
    "\n",
    "    test_features, test_labels = pickle.load(open('preprocess_training.p', mode='rb'))\n",
    "    loaded_graph = tf.Graph()\n",
    "\n",
    "    with tf.Session(graph=loaded_graph) as sess:\n",
    "        # Load model\n",
    "        loader = tf.train.import_meta_graph(save_model_path + '.meta')\n",
    "        loader.restore(sess, save_model_path)\n",
    "\n",
    "        # Get Tensors from loaded model\n",
    "        loaded_x = loaded_graph.get_tensor_by_name('x:0')\n",
    "        loaded_y = loaded_graph.get_tensor_by_name('y:0')\n",
    "        loaded_keep_prob = loaded_graph.get_tensor_by_name('keep_prob:0')\n",
    "        loaded_logits = loaded_graph.get_tensor_by_name('logits:0')\n",
    "        loaded_acc = loaded_graph.get_tensor_by_name('accuracy:0')\n",
    "        \n",
    "        # Get accuracy in batches for memory limitations\n",
    "        test_batch_acc_total = 0\n",
    "        test_batch_count = 0\n",
    "        \n",
    "        for train_feature_batch, train_label_batch in helper.batch_features_labels(test_features, test_labels, batch_size):\n",
    "            test_batch_acc_total += sess.run(\n",
    "                loaded_acc,\n",
    "                feed_dict={loaded_x: train_feature_batch, loaded_y: train_label_batch, loaded_keep_prob: 1.0})\n",
    "            test_batch_count += 1\n",
    "\n",
    "        print('Testing Accuracy: {}\\n'.format(test_batch_acc_total/test_batch_count))\n",
    "\n",
    "        # Print Random Samples\n",
    "        random_test_features, random_test_labels = tuple(zip(*random.sample(list(zip(test_features, test_labels)), n_samples)))\n",
    "        random_test_predictions = sess.run(\n",
    "            tf.nn.top_k(tf.nn.softmax(loaded_logits), top_n_predictions),\n",
    "            feed_dict={loaded_x: random_test_features, loaded_y: random_test_labels, loaded_keep_prob: 1.0})\n",
    "        helper.display_image_predictions(random_test_features, random_test_labels, random_test_predictions)\n",
    "\n",
    "\n",
    "test_model()"
   ]
  },
  {
   "cell_type": "markdown",
   "metadata": {
    "colab_type": "text",
    "id": "sskji1yN9ecm"
   },
   "source": [
    "## Why 50-70% Accuracy?\n",
    "You might be wondering why you can't get an accuracy any higher. First things first, 50% isn't bad for a simple CNN.  Pure guessing would get you 10% accuracy. However, you might notice people are getting scores [well above 70%](http://rodrigob.github.io/are_we_there_yet/build/classification_datasets_results.html#43494641522d3130)."
   ]
  },
  {
   "cell_type": "code",
   "execution_count": 0,
   "metadata": {
    "colab": {},
    "colab_type": "code",
    "id": "rcOC8IzUBcuY"
   },
   "outputs": [],
   "source": []
  }
 ],
 "metadata": {
  "accelerator": "GPU",
  "colab": {
   "name": "dlnd_image_classification.ipynb",
   "provenance": [],
   "version": "0.3.2"
  },
  "kernelspec": {
   "display_name": "Python 3",
   "language": "python",
   "name": "python3"
  },
  "language_info": {
   "codemirror_mode": {
    "name": "ipython",
    "version": 3
   },
   "file_extension": ".py",
   "mimetype": "text/x-python",
   "name": "python",
   "nbconvert_exporter": "python",
   "pygments_lexer": "ipython3",
   "version": "3.6.5"
  }
 },
 "nbformat": 4,
 "nbformat_minor": 1
}
